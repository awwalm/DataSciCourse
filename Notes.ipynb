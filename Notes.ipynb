{
 "cells": [
  {
   "cell_type": "markdown",
   "metadata": {},
   "source": [
    "# Notes & Drafts"
   ]
  },
  {
   "cell_type": "markdown",
   "metadata": {},
   "source": [
    "## Data Science\n",
    "\n",
    "\n",
    "Measures of spread: \n",
    "\n",
    "- $Quartiles$: The spread of the data by breaking it into quartiles.\n",
    "\n",
    "    - 1st quartile: Split data into four equal parts $\\Longrightarrow$ e.g. 100 data sets $\\Rightarrow$ take 25th and 26th data points and calculate average.\n",
    "    - 2nd quartile: 50th and 51st $\\Longrightarrow$ calculate average.\n",
    "    - 3rd quartile - 75th and 76th $\\Longrightarrow$ calculate average.\n",
    "\n",
    "- $Range$: Difference between highest and lowest values; ${max} - {min} $\n",
    "    \n",
    "    \n",
    "- $Variance$: How much a random variable deviates from its expected value.\n",
    "\n",
    "    - Population variance: calculated using ${N}$ and ${\\mu}$\n",
    "    - Sample variance: calculated using ${n}$ and ${\\bar{x}}$\n",
    "    \n",
    "- $Deviation$: Measure of dispersion of a set of data from it's mean.\n",
    "    \n",
    "    - Standard deviation: \n",
    "        $\\sigma = \\sqrt{ \\frac{1}{N} \\sum_{i=1}^{N} (x_i - \\mu)^2 }$\n",
    "\n",
    "- $Entropy$: \n",
    "    "
   ]
  },
  {
   "cell_type": "code",
   "execution_count": null,
   "metadata": {},
   "outputs": [],
   "source": []
  }
 ],
 "metadata": {
  "kernelspec": {
   "display_name": "Python 3",
   "language": "python",
   "name": "python3"
  },
  "language_info": {
   "codemirror_mode": {
    "name": "ipython",
    "version": 3
   },
   "file_extension": ".py",
   "mimetype": "text/x-python",
   "name": "python",
   "nbconvert_exporter": "python",
   "pygments_lexer": "ipython3",
   "version": "3.6.3"
  }
 },
 "nbformat": 4,
 "nbformat_minor": 4
}
